{
 "cells": [
  {
   "cell_type": "code",
   "execution_count": 2,
   "id": "9bb68448-ee9b-4c48-bed4-0fc86879301c",
   "metadata": {},
   "outputs": [
    {
     "data": {
      "application/vnd.jupyter.widget-view+json": {
       "model_id": "137ea4a50c8d4cdf87f120ea66aa8c27",
       "version_major": 2,
       "version_minor": 0
      },
      "text/plain": [
       "VBox(children=(Checkbox(value=False, description='name'), Checkbox(value=False, description='age'), Checkbox(v…"
      ]
     },
     "metadata": {},
     "output_type": "display_data"
    },
    {
     "data": {
      "application/vnd.jupyter.widget-view+json": {
       "model_id": "b3977ed2a487418ebd9f1b7fa465b9b4",
       "version_major": 2,
       "version_minor": 0
      },
      "text/plain": [
       "Button(description='Run Analysis', style=ButtonStyle())"
      ]
     },
     "metadata": {},
     "output_type": "display_data"
    }
   ],
   "source": [
    "import pandas as pd\n",
    "import matplotlib.pyplot as plt\n",
    "import seaborn as sns\n",
    "import statsmodels.api as sm\n",
    "from ipywidgets import VBox, Checkbox, Button\n",
    "from IPython.display import display\n",
    "\n",
    "# Load your data\n",
    "file_path = 'updated.csv'  # Replace with your CSV file path\n",
    "data = pd.read_csv(file_path)\n",
    "\n",
    "# Define the column names\n",
    "columns = data.columns\n",
    "\n",
    "# Create checkboxes for each column\n",
    "checkboxes = [Checkbox(value=False, description=col) for col in columns]\n",
    "\n",
    "# Create a \"Run Analysis\" button\n",
    "run_button = Button(description=\"Run Analysis\")\n",
    "\n",
    "# Define what happens when the button is clicked\n",
    "def on_button_clicked(b):\n",
    "    with output:\n",
    "        output.clear_output()  # Clear previous outputs\n",
    "        print(\"Button clicked!\")  # Debug statement\n",
    "\n",
    "        # Get the selected columns\n",
    "        selected_columns = [checkbox.description for checkbox in checkboxes if checkbox.value]\n",
    "        print(f\"Selected columns: {selected_columns}\")  # Debug statement\n",
    "\n",
    "        # Check if any columns are selected\n",
    "        if not selected_columns:\n",
    "            print(\"No columns selected. Please select at least one column.\")\n",
    "            return\n",
    "        \n",
    "        # Filter the data based on the selected columns\n",
    "        filtered_data = data[selected_columns]\n",
    "        \n",
    "        # Display summary statistics\n",
    "        print(\"Summary Statistics:\")\n",
    "        display(filtered_data.describe())\n",
    "        \n",
    "        # Plot heatmap of correlations\n",
    "        plt.figure(figsize=(10, 8))\n",
    "        corr = filtered_data.corr()\n",
    "        sns.heatmap(corr, annot=True, cmap='coolwarm')\n",
    "        plt.title('Correlation Heatmap of Selected Columns')\n",
    "        plt.show()\n",
    "        \n",
    "        # Example: Run an OLS regression if enough columns are selected\n",
    "        if len(selected_columns) >= 2:\n",
    "            # Assume the first selected column is the dependent variable\n",
    "            dependent_var = selected_columns[0]\n",
    "            independent_vars = selected_columns[1:]\n",
    "            \n",
    "            # Prepare the data for OLS regression\n",
    "            X = sm.add_constant(filtered_data[independent_vars])  # Add a constant term\n",
    "            y = filtered_data[dependent_var]\n",
    "            \n",
    "            # Fit the OLS model\n",
    "            model = sm.OLS(y, X).fit()\n",
    "            \n",
    "            # Display the regression summary\n",
    "            print(\"OLS Regression Summary:\")\n",
    "            display(model.summary())\n",
    "        else:\n",
    "            print(\"Select at least two columns for OLS regression.\")\n",
    "\n",
    "\n",
    "# Assign the event handler to the button\n",
    "run_button.on_click(on_button_clicked)\n",
    "\n",
    "# Display the checkboxes and the button\n",
    "display(VBox(checkboxes), run_button)\n"
   ]
  },
  {
   "cell_type": "code",
   "execution_count": null,
   "id": "d10d4867-699f-477c-9db1-31a4c3ef99f3",
   "metadata": {},
   "outputs": [],
   "source": []
  }
 ],
 "metadata": {
  "kernelspec": {
   "display_name": "Python 3 (ipykernel)",
   "language": "python",
   "name": "python3"
  },
  "language_info": {
   "codemirror_mode": {
    "name": "ipython",
    "version": 3
   },
   "file_extension": ".py",
   "mimetype": "text/x-python",
   "name": "python",
   "nbconvert_exporter": "python",
   "pygments_lexer": "ipython3",
   "version": "3.9.19"
  }
 },
 "nbformat": 4,
 "nbformat_minor": 5
}
